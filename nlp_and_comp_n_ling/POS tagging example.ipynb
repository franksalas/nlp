{
 "cells": [
  {
   "cell_type": "code",
   "execution_count": 13,
   "metadata": {},
   "outputs": [],
   "source": [
    "import spacy\n",
    "from collections import Counter\n",
    "nlp = spacy.load('en')"
   ]
  },
  {
   "cell_type": "code",
   "execution_count": 4,
   "metadata": {},
   "outputs": [],
   "source": [
    "def make_verb_upper(text, pos):\n",
    "    return text.upper() if pos == \"VERB\" else text"
   ]
  },
  {
   "cell_type": "code",
   "execution_count": 5,
   "metadata": {},
   "outputs": [
    {
     "name": "stdout",
     "output_type": "stream",
     "text": [
      "Tom RAN swiftly and WALKED slowly\n"
     ]
    }
   ],
   "source": [
    "doc = nlp(u'Tom ran swiftly and walked slowly')\n",
    "text = ''.join(make_verb_upper(w.text_with_ws, w.pos_) for w in doc)\n",
    "print(text)"
   ]
  },
  {
   "cell_type": "markdown",
   "metadata": {},
   "source": [
    "- func makes verbs uppercase\n"
   ]
  },
  {
   "cell_type": "markdown",
   "metadata": {},
   "source": [
    "Another popular task often done during analysis of text is to count the occurrences of each kind of POS. This can be done quite quickly with the following code snippet, where we find out the number of occurrences of these words in the 1st Harry Potter book (which you would buy/download and save as a text file):"
   ]
  },
  {
   "cell_type": "code",
   "execution_count": 8,
   "metadata": {},
   "outputs": [
    {
     "data": {
      "text/plain": [
       "<matplotlib.axes._subplots.AxesSubplot at 0x7ff70088a780>"
      ]
     },
     "execution_count": 8,
     "metadata": {},
     "output_type": "execute_result"
    },
    {
     "data": {
      "image/png": "[encoded data removed]",
      "text/plain": [
       "<Figure size 432x288 with 1 Axes>"
      ]
     },
     "metadata": {},
     "output_type": "display_data"
    }
   ],
   "source": [
    "import pandas as pd\n",
    "\n",
    "harry_potter = open(\"docs/HP1.txt\").read()\n",
    "hp = nlp(harry_potter)\n",
    "hpSents = list(hp.sents)\n",
    "hpSentenceLengths = [len(sent) for sent in hpSents]\n",
    "[sent for sent in hpSents if len(sent) == max(hpSentenceLengths)]\n",
    "hpPOS = pd.Series(hp.count_by(spacy.attrs.POS))/len(hp)\n",
    " \n",
    "tagDict = {w.pos: w.pos_ for w in hp}\n",
    "hpPOS = pd.Series(hp.count_by(spacy.attrs.POS))/len(hp)\n",
    "df = pd.DataFrame([hpPOS], index=['Harry Potter'])\n",
    "df.columns = [tagDict[column] for column in df.columns]\n",
    "df.T.plot(kind='bar')"
   ]
  },
  {
   "cell_type": "markdown",
   "metadata": {},
   "source": [
    "The y-axis is the percentage of that POS-tag appearing in the text.\n",
    "\n",
    "What if we want to find the most commonly used pronouns? We only need two lines for this task:"
   ]
  },
  {
   "cell_type": "code",
   "execution_count": 14,
   "metadata": {},
   "outputs": [
    {
     "data": {
      "text/plain": [
       "[('he', 102),\n",
       " ('it', 58),\n",
       " ('He', 54),\n",
       " ('I', 46),\n",
       " ('you', 33),\n",
       " ('It', 28),\n",
       " ('him', 26),\n",
       " ('they', 25),\n",
       " ('she', 20),\n",
       " ('them', 17)]"
      ]
     },
     "execution_count": 14,
     "metadata": {},
     "output_type": "execute_result"
    }
   ],
   "source": [
    "hpAdjs = [w for w in hp if w.pos_ == 'PRON']\n",
    "Counter([w.string.strip() for w in hpAdjs]).most_common(10)"
   ]
  },
  {
   "cell_type": "markdown",
   "metadata": {},
   "source": [
    "Knowledge of POS-tags can help us with a more in-depth text analysis. It is a pillar of natural language processing, and after the tokenizing text is usually the first piece of analysis which we carry out. spaCy offers us the best way to perform POS-tagging, but we have had a look at all the other options that Python gives us as well. We will be sticking with spaCy for the rest of the computational linguistics tasks we will be exploring, such as NER-tagging and dependency parsing in the next chapters.\n",
    "\n",
    "\n",
    "\n",
    "## Summary\n",
    "We've explored in this chapter how to use spaCy as part of our pipelines, and in particular how to extract POS-tags. We discussed what POS-tags are, and how they can be useful in different kinds of analysis. We soon moved on to training your own POS-tagger in spaCy and looked at different examples where we use POS-tags. We will now explore other spaCy functionalities such as NER-tagging and dependency parsing."
   ]
  },
  {
   "cell_type": "code",
   "execution_count": null,
   "metadata": {},
   "outputs": [],
   "source": []
  }
 ],
 "metadata": {
  "kernelspec": {
   "display_name": "Python 3",
   "language": "python",
   "name": "python3"
  },
  "language_info": {
   "codemirror_mode": {
    "name": "ipython",
    "version": 3
   },
   "file_extension": ".py",
   "mimetype": "text/x-python",
   "name": "python",
   "nbconvert_exporter": "python",
   "pygments_lexer": "ipython3",
   "version": "3.6.6"
  }
 },
 "nbformat": 4,
 "nbformat_minor": 2
}
