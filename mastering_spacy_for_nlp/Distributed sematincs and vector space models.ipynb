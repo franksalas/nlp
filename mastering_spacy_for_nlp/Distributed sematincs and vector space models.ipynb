{
 "cells": [
  {
   "cell_type": "code",
   "execution_count": 3,
   "metadata": {},
   "outputs": [
    {
     "name": "stdout",
     "output_type": "stream",
     "text": [
      "[-0.24778801  3.9275913  -0.934637   -0.5155436  -2.9214344  -0.8702409\n",
      " -3.854844   -0.4141819   1.5644393  -1.1595113   1.0833403  -1.231425\n",
      " -2.4412856   1.249302    0.9818121   1.4016674  -1.3536601   0.19235057\n",
      " -1.2011304  -1.0017843   1.412408    4.2996345  -0.6997138   0.897541\n",
      " -2.5031524 ]\n"
     ]
    }
   ],
   "source": [
    "import spacy\n",
    "nlp = spacy.load('en')\n",
    "\n",
    "text = 'Word vectors are fantastic!'\n",
    "\n",
    "doc = nlp(text)\n",
    "token = doc[1]\n",
    "\n",
    "print(token.vector[:25])"
   ]
  },
  {
   "cell_type": "code",
   "execution_count": null,
   "metadata": {},
   "outputs": [],
   "source": [
    "import numpy as np\n",
    "ave"
   ]
  }
 ],
 "metadata": {
  "kernelspec": {
   "display_name": "Python 3",
   "language": "python",
   "name": "python3"
  },
  "language_info": {
   "codemirror_mode": {
    "name": "ipython",
    "version": 3
   },
   "file_extension": ".py",
   "mimetype": "text/x-python",
   "name": "python",
   "nbconvert_exporter": "python",
   "pygments_lexer": "ipython3",
   "version": "3.6.6"
  }
 },
 "nbformat": 4,
 "nbformat_minor": 2
}
