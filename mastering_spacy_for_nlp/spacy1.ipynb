{
 "cells": [
  {
   "cell_type": "code",
   "execution_count": 1,
   "metadata": {},
   "outputs": [],
   "source": [
    " from IPython.display import SVG, display\n",
    "import spacy\n",
    "import pandas as pd\n",
    "import matplotlib.pyplot as plt\n",
    "from datetime import datetime\n",
    "%matplotlib inline"
   ]
  },
  {
   "cell_type": "code",
   "execution_count": 18,
   "metadata": {},
   "outputs": [],
   "source": [
    "#encode some text as uncode\n",
    "text = u\"I'm executing this code on an Apple Computer.\"\n",
    "\n",
    "#instantiate a language model\n",
    "#to download language model: python -m spacy.en.download \n",
    "nlp = spacy.load('en') # or spacy.en.English()\n",
    "\n",
    "#create a document\n",
    "document = nlp(text)"
   ]
  },
  {
   "cell_type": "code",
   "execution_count": 4,
   "metadata": {},
   "outputs": [
    {
     "name": "stdout",
     "output_type": "stream",
     "text": [
      "('tagger', <spacy.pipeline.Tagger object at 0x7fe086d52630>)\n",
      "('parser', <spacy.pipeline.DependencyParser object at 0x7fe087938fc0>)\n",
      "('ner', <spacy.pipeline.EntityRecognizer object at 0x7fe087938eb8>)\n"
     ]
    }
   ],
   "source": [
    "for function in nlp.pipeline:\n",
    "    print(function)"
   ]
  },
  {
   "cell_type": "code",
   "execution_count": 6,
   "metadata": {},
   "outputs": [
    {
     "name": "stdout",
     "output_type": "stream",
     "text": [
      "('tagger', <spacy.pipeline.Tagger object at 0x7fe087accd68>)\n",
      "('parser', <spacy.pipeline.DependencyParser object at 0x7fe0765f1d00>)\n",
      "('ner', <spacy.pipeline.EntityRecognizer object at 0x7fe0765f1f10>)\n"
     ]
    }
   ],
   "source": [
    "### Modifying the Language Model\n",
    "def identify_starwars(doc):\n",
    "    for token in doc:\n",
    "        if token.text == u'starwars':\n",
    "            token.tag_ = u'NNP'\n",
    "\n",
    "def return_pipeline(nlp):\n",
    "    return [nlp.tagger, nlp.parser, nlp.matcher, nlp.entity, identify_starwars]\n",
    "\n",
    "text = u\"I loved all of the starwars movies\"\n",
    "custom_nlp = spacy.load('en', create_pipeline=return_pipeline)\n",
    "new_document = custom_nlp(text)\n",
    "\n",
    "for function in custom_nlp.pipeline:\n",
    "    print (function)"
   ]
  },
  {
   "cell_type": "markdown",
   "metadata": {},
   "source": [
    "## Accessing Tokens and Spans"
   ]
  },
  {
   "cell_type": "code",
   "execution_count": 7,
   "metadata": {},
   "outputs": [
    {
     "data": {
      "text/html": [
       "<div>\n",
       "<style scoped>\n",
       "    .dataframe tbody tr th:only-of-type {\n",
       "        vertical-align: middle;\n",
       "    }\n",
       "\n",
       "    .dataframe tbody tr th {\n",
       "        vertical-align: top;\n",
       "    }\n",
       "\n",
       "    .dataframe thead th {\n",
       "        text-align: right;\n",
       "    }\n",
       "</style>\n",
       "<table border=\"1\" class=\"dataframe\">\n",
       "  <thead>\n",
       "    <tr style=\"text-align: right;\">\n",
       "      <th></th>\n",
       "      <th>__str__</th>\n",
       "      <th>type</th>\n",
       "    </tr>\n",
       "  </thead>\n",
       "  <tbody>\n",
       "    <tr>\n",
       "      <th>0</th>\n",
       "      <td>spaCy</td>\n",
       "      <td>&lt;class 'spacy.tokens.token.Token'&gt;</td>\n",
       "    </tr>\n",
       "    <tr>\n",
       "      <th>1</th>\n",
       "      <td>spaCy excels at</td>\n",
       "      <td>&lt;class 'spacy.tokens.span.Span'&gt;</td>\n",
       "    </tr>\n",
       "    <tr>\n",
       "      <th>2</th>\n",
       "      <td>spaCy excels at large-scale information extrac...</td>\n",
       "      <td>&lt;class 'spacy.tokens.doc.Doc'&gt;</td>\n",
       "    </tr>\n",
       "  </tbody>\n",
       "</table>\n",
       "</div>"
      ],
      "text/plain": [
       "                                             __str__  \\\n",
       "0                                              spaCy   \n",
       "1                                    spaCy excels at   \n",
       "2  spaCy excels at large-scale information extrac...   \n",
       "\n",
       "                                 type  \n",
       "0  <class 'spacy.tokens.token.Token'>  \n",
       "1    <class 'spacy.tokens.span.Span'>  \n",
       "2      <class 'spacy.tokens.doc.Doc'>  "
      ]
     },
     "execution_count": 7,
     "metadata": {},
     "output_type": "execute_result"
    }
   ],
   "source": [
    "import pandas as pd\n",
    "def info(obj):\n",
    "    return {'type':type(obj),'__str__': str(obj)}\n",
    "\n",
    "\n",
    "text = u\"\"\"spaCy excels at large-scale information extraction tasks. \n",
    "It's written from the ground up in carefully memory-managed Cython. \"\"\"\n",
    "document = nlp(text)\n",
    "token = document[0]\n",
    "span = document[0:3]\n",
    "\n",
    "\n",
    "pd.DataFrame(list(map(info, [token,span,document])))"
   ]
  },
  {
   "cell_type": "markdown",
   "metadata": {},
   "source": [
    "## Sentence boundary detection"
   ]
  },
  {
   "cell_type": "code",
   "execution_count": 8,
   "metadata": {},
   "outputs": [
    {
     "name": "stdout",
     "output_type": "stream",
     "text": [
      "<generator object at 0x7fe075ff3ea0>\n"
     ]
    }
   ],
   "source": [
    "print(document.sents)"
   ]
  },
  {
   "cell_type": "code",
   "execution_count": 9,
   "metadata": {},
   "outputs": [
    {
     "name": "stdout",
     "output_type": "stream",
     "text": [
      "spaCy excels at large-scale information extraction tasks. \n",
      "\n",
      "It's written from the ground up in carefully memory-managed Cython.\n"
     ]
    }
   ],
   "source": [
    "for sent in document.sents:\n",
    "    print(sent)"
   ]
  },
  {
   "cell_type": "markdown",
   "metadata": {},
   "source": [
    "## Tokenization"
   ]
  },
  {
   "cell_type": "code",
   "execution_count": 10,
   "metadata": {},
   "outputs": [
    {
     "name": "stdout",
     "output_type": "stream",
     "text": [
      "spaCy\n",
      "excels\n",
      "at\n",
      "large\n",
      "-\n",
      "scale\n",
      "information\n",
      "extraction\n",
      "tasks\n",
      ".\n",
      "\n",
      "\n",
      "It\n",
      "'s\n",
      "written\n",
      "from\n",
      "the\n",
      "ground\n",
      "up\n",
      "in\n",
      "carefully\n",
      "memory\n",
      "-\n",
      "managed\n",
      "Cython\n",
      ".\n"
     ]
    }
   ],
   "source": [
    "for token in document:\n",
    "    print(token)"
   ]
  },
  {
   "cell_type": "markdown",
   "metadata": {},
   "source": [
    "# morphological decompostion"
   ]
  },
  {
   "cell_type": "code",
   "execution_count": 21,
   "metadata": {},
   "outputs": [
    {
     "ename": "IndexError",
     "evalue": "[E040] Attempt to access token at 13, max length 10.",
     "output_type": "error",
     "traceback": [
      "\u001b[0;31m---------------------------------------------------------------------------\u001b[0m",
      "\u001b[0;31mIndexError\u001b[0m                                Traceback (most recent call last)",
      "\u001b[0;32m<ipython-input-21-ca8800ff8716>\u001b[0m in \u001b[0;36m<module>\u001b[0;34m()\u001b[0m\n\u001b[0;32m----> 1\u001b[0;31m \u001b[0mtoken\u001b[0m \u001b[0;34m=\u001b[0m \u001b[0mdocument\u001b[0m\u001b[0;34m[\u001b[0m\u001b[0;36m13\u001b[0m\u001b[0;34m]\u001b[0m\u001b[0;34m\u001b[0m\u001b[0m\n\u001b[0m\u001b[1;32m      2\u001b[0m \u001b[0mprint\u001b[0m \u001b[0;34m(\u001b[0m\u001b[0;34m\"text: %s\"\u001b[0m \u001b[0;34m%\u001b[0m \u001b[0mtoken\u001b[0m\u001b[0;34m.\u001b[0m\u001b[0mtext\u001b[0m\u001b[0;34m)\u001b[0m\u001b[0;34m\u001b[0m\u001b[0m\n\u001b[1;32m      3\u001b[0m \u001b[0mprint\u001b[0m\u001b[0;34m(\u001b[0m \u001b[0;34m\"suffix: %s\"\u001b[0m \u001b[0;34m%\u001b[0m \u001b[0mtoken\u001b[0m\u001b[0;34m.\u001b[0m\u001b[0msuffix_\u001b[0m \u001b[0;34m)\u001b[0m\u001b[0;34m\u001b[0m\u001b[0m\n\u001b[1;32m      4\u001b[0m \u001b[0mprint\u001b[0m \u001b[0;34m(\u001b[0m\u001b[0;34m\"lemma: %s\"\u001b[0m \u001b[0;34m%\u001b[0m \u001b[0mtoken\u001b[0m\u001b[0;34m.\u001b[0m\u001b[0mlemma_\u001b[0m\u001b[0;34m)\u001b[0m\u001b[0;34m\u001b[0m\u001b[0m\n",
      "\u001b[0;32mdoc.pyx\u001b[0m in \u001b[0;36mspacy.tokens.doc.Doc.__getitem__\u001b[0;34m()\u001b[0m\n",
      "\u001b[0;32mtoken.pxd\u001b[0m in \u001b[0;36mspacy.tokens.token.Token.cinit\u001b[0;34m()\u001b[0m\n",
      "\u001b[0;31mIndexError\u001b[0m: [E040] Attempt to access token at 13, max length 10."
     ]
    }
   ],
   "source": [
    " token = document[13]\n",
    "print (\"text: %s\" % token.text)\n",
    "print( \"suffix: %s\" % token.suffix_ )\n",
    "print (\"lemma: %s\" % token.lemma_)"
   ]
  },
  {
   "cell_type": "markdown",
   "metadata": {},
   "source": [
    "## part of speach tagging"
   ]
  },
  {
   "cell_type": "code",
   "execution_count": 22,
   "metadata": {},
   "outputs": [
    {
     "data": {
      "text/html": [
       "<div>\n",
       "<style scoped>\n",
       "    .dataframe tbody tr th:only-of-type {\n",
       "        vertical-align: middle;\n",
       "    }\n",
       "\n",
       "    .dataframe tbody tr th {\n",
       "        vertical-align: top;\n",
       "    }\n",
       "\n",
       "    .dataframe thead th {\n",
       "        text-align: right;\n",
       "    }\n",
       "</style>\n",
       "<table border=\"1\" class=\"dataframe\">\n",
       "  <thead>\n",
       "    <tr style=\"text-align: right;\">\n",
       "      <th></th>\n",
       "      <th>Dependency</th>\n",
       "      <th>part of speech</th>\n",
       "      <th>token</th>\n",
       "    </tr>\n",
       "  </thead>\n",
       "  <tbody>\n",
       "    <tr>\n",
       "      <th>0</th>\n",
       "      <td>nsubj</td>\n",
       "      <td>PRON</td>\n",
       "      <td>I</td>\n",
       "    </tr>\n",
       "    <tr>\n",
       "      <th>1</th>\n",
       "      <td>aux</td>\n",
       "      <td>VERB</td>\n",
       "      <td>'m</td>\n",
       "    </tr>\n",
       "    <tr>\n",
       "      <th>2</th>\n",
       "      <td>ROOT</td>\n",
       "      <td>VERB</td>\n",
       "      <td>executing</td>\n",
       "    </tr>\n",
       "    <tr>\n",
       "      <th>3</th>\n",
       "      <td>det</td>\n",
       "      <td>DET</td>\n",
       "      <td>this</td>\n",
       "    </tr>\n",
       "    <tr>\n",
       "      <th>4</th>\n",
       "      <td>dobj</td>\n",
       "      <td>NOUN</td>\n",
       "      <td>code</td>\n",
       "    </tr>\n",
       "    <tr>\n",
       "      <th>5</th>\n",
       "      <td>prep</td>\n",
       "      <td>ADP</td>\n",
       "      <td>on</td>\n",
       "    </tr>\n",
       "    <tr>\n",
       "      <th>6</th>\n",
       "      <td>det</td>\n",
       "      <td>DET</td>\n",
       "      <td>an</td>\n",
       "    </tr>\n",
       "    <tr>\n",
       "      <th>7</th>\n",
       "      <td>compound</td>\n",
       "      <td>PROPN</td>\n",
       "      <td>Apple</td>\n",
       "    </tr>\n",
       "    <tr>\n",
       "      <th>8</th>\n",
       "      <td>pobj</td>\n",
       "      <td>PROPN</td>\n",
       "      <td>Computer</td>\n",
       "    </tr>\n",
       "    <tr>\n",
       "      <th>9</th>\n",
       "      <td>punct</td>\n",
       "      <td>PUNCT</td>\n",
       "      <td>.</td>\n",
       "    </tr>\n",
       "  </tbody>\n",
       "</table>\n",
       "</div>"
      ],
      "text/plain": [
       "  Dependency part of speech      token\n",
       "0      nsubj           PRON          I\n",
       "1        aux           VERB         'm\n",
       "2       ROOT           VERB  executing\n",
       "3        det            DET       this\n",
       "4       dobj           NOUN       code\n",
       "5       prep            ADP         on\n",
       "6        det            DET         an\n",
       "7   compound          PROPN      Apple\n",
       "8       pobj          PROPN   Computer\n",
       "9      punct          PUNCT          ."
      ]
     },
     "execution_count": 22,
     "metadata": {},
     "output_type": "execute_result"
    }
   ],
   "source": [
    "#Part of speech and Dependency tagging\n",
    "attrs = map(lambda token: {\n",
    "                     \"token\":token\n",
    "                   , \"part of speech\":token.pos_\n",
    "                   , \"Dependency\" : token.dep_}\n",
    "                    , document)\n",
    "pd.DataFrame(list(attrs))"
   ]
  },
  {
   "cell_type": "markdown",
   "metadata": {},
   "source": [
    "## Noun Chunking"
   ]
  },
  {
   "cell_type": "code",
   "execution_count": 23,
   "metadata": {},
   "outputs": [
    {
     "name": "stdout",
     "output_type": "stream",
     "text": [
      "noun chunks: [I, this code, an Apple Computer]\n"
     ]
    }
   ],
   "source": [
    "print('noun chunks: {}'.format(list(document.noun_chunks)))"
   ]
  },
  {
   "cell_type": "markdown",
   "metadata": {},
   "source": [
    "## Named entity recognition"
   ]
  },
  {
   "cell_type": "code",
   "execution_count": 24,
   "metadata": {},
   "outputs": [
    {
     "name": "stdout",
     "output_type": "stream",
     "text": [
      "entities: [(Apple Computer, 'ORG')]\n"
     ]
    }
   ],
   "source": [
    "ents = [(ent, ent.root.ent_type_) for ent in document.ents]\n",
    "print (\"entities: {}\".format(ents))"
   ]
  },
  {
   "cell_type": "markdown",
   "metadata": {},
   "source": [
    "## Text similarity (using word vectors)"
   ]
  },
  {
   "cell_type": "code",
   "execution_count": 27,
   "metadata": {},
   "outputs": [
    {
     "data": {
      "image/png": "[encoded data removed]",
      "text/plain": [
       "<matplotlib.figure.Figure at 0x7fe065eb6208>"
      ]
     },
     "metadata": {},
     "output_type": "display_data"
    }
   ],
   "source": [
    " #document, span, and token similarity\n",
    "def plot_similarities(similarities, target):\n",
    "    import matplotlib.pyplot as plt\n",
    "    %matplotlib inline\n",
    "    f, ax = plt.subplots(1)\n",
    "    index = range(len(similarities))\n",
    "    ax.barh(index, similarities)\n",
    "    ax.set_yticks([i + .5 for i in index])\n",
    "    ax.set_yticklabels(document2)\n",
    "    ax.grid()\n",
    "    ax.set_title(\"Similarity to '{}'\".format(target))\n",
    "    plt.show()\n",
    "    \n",
    "    \n",
    "computer = nlp(u'computer')\n",
    "document2 = nlp(u'You might be using a machine running Windows')\n",
    "similarities = list(map(lambda token: token.similarity(computer),document2))\n",
    "plot_similarities(similarities, computer)"
   ]
  },
  {
   "cell_type": "code",
   "execution_count": null,
   "metadata": {},
   "outputs": [],
   "source": []
  }
 ],
 "metadata": {
  "kernelspec": {
   "display_name": "Python [conda env:datacamp]",
   "language": "python",
   "name": "conda-env-datacamp-py"
  },
  "language_info": {
   "codemirror_mode": {
    "name": "ipython",
    "version": 3
   },
   "file_extension": ".py",
   "mimetype": "text/x-python",
   "name": "python",
   "nbconvert_exporter": "python",
   "pygments_lexer": "ipython3",
   "version": "3.6.4"
  }
 },
 "nbformat": 4,
 "nbformat_minor": 2
}
