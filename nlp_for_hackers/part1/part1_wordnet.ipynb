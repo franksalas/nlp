{
 "cells": [
  {
   "cell_type": "markdown",
   "metadata": {},
   "source": [
    "# Getting started with Wordnet\n",
    "Wordnet4 is a lexical database created at Princeton University. Due to its size and features, Wordnet is one of the most useful tools you can have in your NLP arsenal.\n",
    "\n",
    "\n",
    "## Wordnet Structure\n",
    "\n",
    "You can think of Wordnet as a graph of concepts. The edges between the concepts\n",
    "describe the relationship between them. A concept node is, in fact, a set of synonyms\n",
    "representing the same concept, and is called a **Synset**. The synonyms within the\n",
    "synset are represented by their **Lemma**. A Lemma is the base form (the dictionary\n",
    "form) of the word.\n",
    "\n",
    "\n",
    "Using this type of structure, we are able to build mechanisms that can reason. Let’s\n",
    "take an example: I can say either “Bob drives the car” or “Bob dives the automobile”,\n",
    "both being true because the nouns “car” and “automobile” are synonyms. Also, “Bob\n",
    "drives the vehicle” can be true since all cars are vehicles.\n",
    "\n",
    "\n",
    "NLTK provides one of the best interfaces for Wordnet. It is extremely easy to use\n",
    "and before we dive into it, make this exercise: \n",
    ">**try to write down all the meanings\n",
    "of the word “car”.**\n",
    "\n",
    "**Getting started with Wordnet**"
   ]
  },
  {
   "cell_type": "code",
   "execution_count": 1,
   "metadata": {},
   "outputs": [
    {
     "name": "stdout",
     "output_type": "stream",
     "text": [
      "['car', 'auto', 'automobile', 'machine', 'motorcar']\n",
      "a motor vehicle with four wheels; usually propelled by an internal combustion engine\n",
      "\n",
      "\n",
      "['car', 'railcar', 'railway_car', 'railroad_car']\n",
      "a wheeled vehicle adapted to the rails of railroad\n",
      "\n",
      "\n",
      "['car', 'gondola']\n",
      "the compartment that is suspended from an airship and that carries personnel and the cargo and the power plant\n",
      "\n",
      "\n",
      "['car', 'elevator_car']\n",
      "where passengers ride up and down\n",
      "\n",
      "\n",
      "['cable_car', 'car']\n",
      "a conveyance for passengers or freight on a cable railway\n",
      "\n",
      "\n"
     ]
    }
   ],
   "source": [
    "from nltk.corpus import wordnet as wn\n",
    "# Let's investigate what are the various synsets for `car`\n",
    "# Remember that each synset represents a separate sense of the word `car`\n",
    "for car in wn.synsets('car'):\n",
    "    print([l.name() for l in car.lemmas()])\n",
    "    print(car.definition())\n",
    "    print('\\n')\n"
   ]
  },
  {
   "cell_type": "markdown",
   "metadata": {},
   "source": [
    "The most important relationships in Wordnet other than the synonymy relationship\n",
    "are the **hyponymy/hypernymy.**\n",
    "\n",
    "Hyponyms are more specific concepts while\n",
    "hypernyms are more general concepts.\n",
    "\n",
    "Let’s build a concept tree. Due to aesthetics, we won’t use all the concepts because\n",
    "it would be hard to visualize. \n",
    "\n",
    "I have conveniently chosen only 4 hyponyms of the\n",
    "concept Vehicle and 5 more for its Wheeled-Vehicle hyponym:\n",
    "\n",
    "**Wordnet concept tree**"
   ]
  },
  {
   "cell_type": "code",
   "execution_count": 14,
   "metadata": {},
   "outputs": [],
   "source": [
    "import os\n",
    "import matplotlib\n",
    "import matplotlib.pyplot as plt\n",
    "%matplotlib inline"
   ]
  },
  {
   "cell_type": "markdown",
   "metadata": {},
   "source": [
    "```python\n",
    "import nltk\n",
    "from nltk.corpus import wordnet as wn\n",
    "# Let's get the first sense of vehicle\n",
    "vehicle = wn.synsets('vehicle')[0]\n",
    "# Let's build a concept tree\n",
    "t = nltk.Tree(vehicle.name(), children=[\n",
    "    nltk.Tree(vehicle.hyponyms()[3].name(), children=[]),\n",
    "    nltk.Tree(vehicle.hyponyms()[4].name(), children=[]),\n",
    "    nltk.Tree(vehicle.hyponyms()[5].name(), children=[]),\n",
    "    nltk.Tree(vehicle.hyponyms()[7].name(), children=[\n",
    "        nltk.Tree(vehicle.hyponyms()[7].hyponyms()[1].name(), children=[]),\n",
    "        nltk.Tree(vehicle.hyponyms()[7].hyponyms()[3].name(), children=[]),\n",
    "        nltk.Tree(vehicle.hyponyms()[7].hyponyms()[4].name(), children=[]),\n",
    "        nltk.Tree(vehicle.hyponyms()[7].hyponyms()[5].name(), children=[]),\n",
    "        nltk.Tree(vehicle.hyponyms()[7].hyponyms()[6].name(), children=[]),]),])\n",
    "\n",
    "\n",
    "t.draw()\n",
    "\n",
    "```\n",
    "\n",
    "![](https://i.imgur.com/I4G828B.png)\n"
   ]
  },
  {
   "cell_type": "markdown",
   "metadata": {},
   "source": [
    "Maybe it’s not obvious from the previous queries, but synsets have an associated\n",
    "part of speech. You can see it in the visualization on node labels: `vehicle.n.01` where\n",
    "n stands for *noun*.\n",
    "\n",
    "We can perform generic queries without specifying the part of\n",
    "speech like this:\n",
    "\n",
    "**Querying Wordnet for synsets**"
   ]
  },
  {
   "cell_type": "code",
   "execution_count": 17,
   "metadata": {},
   "outputs": [
    {
     "data": {
      "text/plain": [
       "[Synset('battle.n.01'),\n",
       " Synset('fight.n.02'),\n",
       " Synset('competitiveness.n.01'),\n",
       " Synset('fight.n.04'),\n",
       " Synset('fight.n.05'),\n",
       " Synset('contend.v.06'),\n",
       " Synset('fight.v.02'),\n",
       " Synset('fight.v.03'),\n",
       " Synset('crusade.v.01')]"
      ]
     },
     "execution_count": 17,
     "metadata": {},
     "output_type": "execute_result"
    }
   ],
   "source": [
    "from nltk.corpus import wordnet as wn\n",
    "wn.synsets('fight')"
   ]
  },
  {
   "cell_type": "markdown",
   "metadata": {},
   "source": [
    "We can also perform particular queries, specifying the part of speech like this:\n",
    "\n",
    "**Querying Wordnet for synsets and filtering by part of speech**\n"
   ]
  },
  {
   "cell_type": "code",
   "execution_count": 19,
   "metadata": {},
   "outputs": [
    {
     "data": {
      "text/plain": [
       "[Synset('battle.n.01'),\n",
       " Synset('fight.n.02'),\n",
       " Synset('competitiveness.n.01'),\n",
       " Synset('fight.n.04'),\n",
       " Synset('fight.n.05')]"
      ]
     },
     "execution_count": 19,
     "metadata": {},
     "output_type": "execute_result"
    }
   ],
   "source": [
    "from nltk.corpus import wordnet as wn\n",
    "wn.synsets('fight', wn.NOUN)"
   ]
  },
  {
   "cell_type": "markdown",
   "metadata": {},
   "source": [
    "Moreover, we can perform a query for a very specific synset, like this one:\n",
    "\n",
    "**Fetching specific synset**"
   ]
  },
  {
   "cell_type": "code",
   "execution_count": 20,
   "metadata": {},
   "outputs": [],
   "source": [
    "from nltk.corpus import wordnet as wn\n",
    "# Synset id format = {lemma}.{part_of_speech}.{sense_number}\n",
    "walk = wn.synset('walk.v.01')"
   ]
  },
  {
   "cell_type": "markdown",
   "metadata": {},
   "source": [
    "## Lemma Operations\n",
    "\n",
    "Until now, we’ve been looking into Wordnet synsets relationships, but lemmas have\n",
    "some interesting properties as well. To begin with, the lemmas in a synset are sorted\n",
    "by their frequency, like this:\n",
    "\n",
    "**Lemma operations**"
   ]
  },
  {
   "cell_type": "code",
   "execution_count": 28,
   "metadata": {},
   "outputs": [],
   "source": [
    "from nltk.corpus import wordnet as wn\n",
    "talk = wn.synset('talk.v.01')"
   ]
  },
  {
   "cell_type": "code",
   "execution_count": 29,
   "metadata": {},
   "outputs": [
    {
     "name": "stdout",
     "output_type": "stream",
     "text": [
      "{'talk': 108, 'speak': 53}\n"
     ]
    }
   ],
   "source": [
    "print({lemma.name(): lemma.count() for lemma in talk.lemmas()})"
   ]
  },
  {
   "cell_type": "code",
   "execution_count": 30,
   "metadata": {},
   "outputs": [
    {
     "name": "stdout",
     "output_type": "stream",
     "text": [
      "[Lemma('ugly.a.01.ugly')]\n"
     ]
    }
   ],
   "source": [
    "# Get antonyms for the adjective `beautiful`\n",
    "beautiful = wn.synset('beautiful.a.01')\n",
    "print(beautiful.lemmas()[0].antonyms())"
   ]
  },
  {
   "cell_type": "code",
   "execution_count": 31,
   "metadata": {},
   "outputs": [
    {
     "name": "stdout",
     "output_type": "stream",
     "text": [
      "[Lemma('ability.n.02.ability'), Lemma('ability.n.01.ability')]\n"
     ]
    }
   ],
   "source": [
    "# Get the derivationally related forms of a lemma\n",
    "able = wn.synset('able.a.01')\n",
    "print(able.lemmas()[0].derivationally_related_forms())"
   ]
  },
  {
   "cell_type": "markdown",
   "metadata": {},
   "source": [
    "As we discovered so far, Wordnet is great because it gives us a way of getting\n",
    "synonyms, antonyms, different senses of a word, related words, how common a\n",
    "word is and so on. Let’s go even further and discover some more useful features of\n",
    "Wordnet."
   ]
  },
  {
   "cell_type": "code",
   "execution_count": null,
   "metadata": {},
   "outputs": [],
   "source": []
  }
 ],
 "metadata": {
  "kernelspec": {
   "display_name": "Python 3",
   "language": "python",
   "name": "python3"
  },
  "language_info": {
   "codemirror_mode": {
    "name": "ipython",
    "version": 3
   },
   "file_extension": ".py",
   "mimetype": "text/x-python",
   "name": "python",
   "nbconvert_exporter": "python",
   "pygments_lexer": "ipython3",
   "version": "3.6.6"
  }
 },
 "nbformat": 4,
 "nbformat_minor": 2
}
