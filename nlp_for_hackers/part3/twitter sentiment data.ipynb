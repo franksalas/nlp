{
 "cells": [
  {
   "cell_type": "markdown",
   "metadata": {},
   "source": [
    "## Twitter Sentiment Data\n",
    "Twitter is one of the most open platforms and that makes it a perfect fit for\n",
    "analyzing text from different perspectives. Twitter has been used for predicting\n",
    "election results, reputation management, brand monitoring, customer support,\n",
    "various bots, etc.\n",
    "\n",
    "## Twitter Corpora\n",
    "Twitter has been noticed in the academic environment for a while now, and various\n",
    "corpora from tweets have been created. Here are some of them:\n",
    "\n",
    "- nltk.corpus.twitter_samples - Sentiment annotated tweets -\n",
    "- Twitter Airline Reviews17\n",
    "- First GOP Debate Twitter Sentiment18\n",
    "- Sanders Analytics Twitter Sentiment Corpus19 - 5513 hand-classified tweets\n",
    "- OSU Twitter NLP Tools20 - Contains POS, Chunk and NER annotated tweets\n",
    "- Tweebank21 - Twitter CoNLL-like annotated data\n",
    "\n",
    "## Other Sentiment Analysis Corpora\n",
    "Besides the ones stated so far, there is a multitude of other corpora related to\n",
    "sentiment analysis and I am going to list some of the most well-known:\n",
    "\n",
    "- Sentiment Annotated 50.000 IMDB movie reviews22\n",
    "- Amazon Fine Food Reviews23\n",
    "- Multi-Domain Sentiment Dataset24\n",
    "- UMICH SI650 - Sentiment Classification on Kaggle25\n",
    "- SentiWordnet: Sentiment Polarities for Wordnet26\n",
    "- Miscellaneous Opinion annotated datasets27\n",
    "\n",
    "\n",
    "## Building a Tweets Dataset\n",
    "\n",
    "Let’s start by gathering the Twitter data and putting it all together. We are going to\n",
    "use three out of the six resources I have mentioned earlier in the Twitter Corpora\n",
    "chapter: NLTK Twitter Samples, Twitter Airline Reviews and First GOP Debate\n",
    "Twitter Sentiment.\n",
    "\n",
    "**Indexing NLTK Twitter Samples**"
   ]
  },
  {
   "cell_type": "code",
   "execution_count": 1,
   "metadata": {},
   "outputs": [],
   "source": [
    "import pandas as pd\n",
    "import matplotlib.pyplot as plt\n",
    "\n",
    "# Initialize a dataframe for storing tweets\n",
    "df = pd.DataFrame(columns=['tweet', 'source', 'sentiment'])\n",
    "\n",
    "####################################\n",
    "#\n",
    "# NLTK Twitter Samples\n",
    "#\n",
    "####################################\n",
    "from nltk.corpus import twitter_samples\n",
    "\n",
    "# Add the positive tweets\n",
    "for tweet in twitter_samples.strings('positive_tweets.json'):\n",
    "    df.loc[len(df)] = [tweet, 'nltk.corpus.twitter_samples', 'positive']\n",
    "\n",
    "for tweet in twitter_samples.strings('negative_tweets.json'):\n",
    "    df.loc[len(df)] = [tweet, 'nltk.corpus.twitter_samples', 'negative']"
   ]
  },
  {
   "cell_type": "code",
   "execution_count": 2,
   "metadata": {},
   "outputs": [
    {
     "data": {
      "text/html": [
       "<div>\n",
       "<style scoped>\n",
       "    .dataframe tbody tr th:only-of-type {\n",
       "        vertical-align: middle;\n",
       "    }\n",
       "\n",
       "    .dataframe tbody tr th {\n",
       "        vertical-align: top;\n",
       "    }\n",
       "\n",
       "    .dataframe thead th {\n",
       "        text-align: right;\n",
       "    }\n",
       "</style>\n",
       "<table border=\"1\" class=\"dataframe\">\n",
       "  <thead>\n",
       "    <tr style=\"text-align: right;\">\n",
       "      <th></th>\n",
       "      <th>tweet</th>\n",
       "      <th>source</th>\n",
       "      <th>sentiment</th>\n",
       "    </tr>\n",
       "  </thead>\n",
       "  <tbody>\n",
       "    <tr>\n",
       "      <th>0</th>\n",
       "      <td>#FollowFriday @France_Inte @PKuchly57 @Milipol...</td>\n",
       "      <td>nltk.corpus.twitter_samples</td>\n",
       "      <td>positive</td>\n",
       "    </tr>\n",
       "    <tr>\n",
       "      <th>1</th>\n",
       "      <td>@Lamb2ja Hey James! How odd :/ Please call our...</td>\n",
       "      <td>nltk.corpus.twitter_samples</td>\n",
       "      <td>positive</td>\n",
       "    </tr>\n",
       "    <tr>\n",
       "      <th>2</th>\n",
       "      <td>@DespiteOfficial we had a listen last night :)...</td>\n",
       "      <td>nltk.corpus.twitter_samples</td>\n",
       "      <td>positive</td>\n",
       "    </tr>\n",
       "    <tr>\n",
       "      <th>3</th>\n",
       "      <td>@97sides CONGRATS :)</td>\n",
       "      <td>nltk.corpus.twitter_samples</td>\n",
       "      <td>positive</td>\n",
       "    </tr>\n",
       "    <tr>\n",
       "      <th>4</th>\n",
       "      <td>yeaaaah yippppy!!!  my accnt verified rqst has...</td>\n",
       "      <td>nltk.corpus.twitter_samples</td>\n",
       "      <td>positive</td>\n",
       "    </tr>\n",
       "  </tbody>\n",
       "</table>\n",
       "</div>"
      ],
      "text/plain": [
       "                                               tweet  \\\n",
       "0  #FollowFriday @France_Inte @PKuchly57 @Milipol...   \n",
       "1  @Lamb2ja Hey James! How odd :/ Please call our...   \n",
       "2  @DespiteOfficial we had a listen last night :)...   \n",
       "3                               @97sides CONGRATS :)   \n",
       "4  yeaaaah yippppy!!!  my accnt verified rqst has...   \n",
       "\n",
       "                        source sentiment  \n",
       "0  nltk.corpus.twitter_samples  positive  \n",
       "1  nltk.corpus.twitter_samples  positive  \n",
       "2  nltk.corpus.twitter_samples  positive  \n",
       "3  nltk.corpus.twitter_samples  positive  \n",
       "4  nltk.corpus.twitter_samples  positive  "
      ]
     },
     "execution_count": 2,
     "metadata": {},
     "output_type": "execute_result"
    }
   ],
   "source": [
    "df.head()"
   ]
  },
  {
   "cell_type": "code",
   "execution_count": null,
   "metadata": {},
   "outputs": [],
   "source": []
  },
  {
   "cell_type": "markdown",
   "metadata": {},
   "source": [
    "For the next step, you need to download the Twitter Airline Reviews corpus from\n",
    "Kaggle: https://www.kaggle.com/crowdflower/twitter-airline-sentiment28\n",
    "\n",
    "**Indexing Twitter Airline Reviews**"
   ]
  },
  {
   "cell_type": "code",
   "execution_count": 3,
   "metadata": {},
   "outputs": [],
   "source": [
    "####################################\n",
    "#\n",
    "# Twitter Airline Reviews\n",
    "#\n",
    "####################################\n",
    "airline_tweets = pd.read_csv('data/Tweets.csv')\n",
    "# Select only the columns of interest\n",
    "airline_df = airline_tweets[['text', 'airline_sentiment']]\n",
    "# Rename the columns to fit the header\n",
    "airline_df = airline_df.rename(columns={'text': 'tweet', 'airline_sentiment': 'sentiment'})\n",
    "# Add a constant column as the source\n",
    "airline_df['source'] = 'https://www.kaggle.com/crowdflower/twitter-airline-sentiment'"
   ]
  },
  {
   "cell_type": "code",
   "execution_count": 5,
   "metadata": {},
   "outputs": [
    {
     "data": {
      "text/html": [
       "<div>\n",
       "<style scoped>\n",
       "    .dataframe tbody tr th:only-of-type {\n",
       "        vertical-align: middle;\n",
       "    }\n",
       "\n",
       "    .dataframe tbody tr th {\n",
       "        vertical-align: top;\n",
       "    }\n",
       "\n",
       "    .dataframe thead th {\n",
       "        text-align: right;\n",
       "    }\n",
       "</style>\n",
       "<table border=\"1\" class=\"dataframe\">\n",
       "  <thead>\n",
       "    <tr style=\"text-align: right;\">\n",
       "      <th></th>\n",
       "      <th>tweet</th>\n",
       "      <th>sentiment</th>\n",
       "      <th>source</th>\n",
       "    </tr>\n",
       "  </thead>\n",
       "  <tbody>\n",
       "    <tr>\n",
       "      <th>0</th>\n",
       "      <td>@VirginAmerica What @dhepburn said.</td>\n",
       "      <td>neutral</td>\n",
       "      <td>https://www.kaggle.com/crowdflower/twitter-air...</td>\n",
       "    </tr>\n",
       "    <tr>\n",
       "      <th>1</th>\n",
       "      <td>@VirginAmerica plus you've added commercials t...</td>\n",
       "      <td>positive</td>\n",
       "      <td>https://www.kaggle.com/crowdflower/twitter-air...</td>\n",
       "    </tr>\n",
       "    <tr>\n",
       "      <th>2</th>\n",
       "      <td>@VirginAmerica I didn't today... Must mean I n...</td>\n",
       "      <td>neutral</td>\n",
       "      <td>https://www.kaggle.com/crowdflower/twitter-air...</td>\n",
       "    </tr>\n",
       "    <tr>\n",
       "      <th>3</th>\n",
       "      <td>@VirginAmerica it's really aggressive to blast...</td>\n",
       "      <td>negative</td>\n",
       "      <td>https://www.kaggle.com/crowdflower/twitter-air...</td>\n",
       "    </tr>\n",
       "    <tr>\n",
       "      <th>4</th>\n",
       "      <td>@VirginAmerica and it's a really big bad thing...</td>\n",
       "      <td>negative</td>\n",
       "      <td>https://www.kaggle.com/crowdflower/twitter-air...</td>\n",
       "    </tr>\n",
       "  </tbody>\n",
       "</table>\n",
       "</div>"
      ],
      "text/plain": [
       "                                               tweet sentiment  \\\n",
       "0                @VirginAmerica What @dhepburn said.   neutral   \n",
       "1  @VirginAmerica plus you've added commercials t...  positive   \n",
       "2  @VirginAmerica I didn't today... Must mean I n...   neutral   \n",
       "3  @VirginAmerica it's really aggressive to blast...  negative   \n",
       "4  @VirginAmerica and it's a really big bad thing...  negative   \n",
       "\n",
       "                                              source  \n",
       "0  https://www.kaggle.com/crowdflower/twitter-air...  \n",
       "1  https://www.kaggle.com/crowdflower/twitter-air...  \n",
       "2  https://www.kaggle.com/crowdflower/twitter-air...  \n",
       "3  https://www.kaggle.com/crowdflower/twitter-air...  \n",
       "4  https://www.kaggle.com/crowdflower/twitter-air...  "
      ]
     },
     "execution_count": 5,
     "metadata": {},
     "output_type": "execute_result"
    }
   ],
   "source": [
    "airline_df.head()"
   ]
  },
  {
   "cell_type": "code",
   "execution_count": null,
   "metadata": {},
   "outputs": [],
   "source": []
  },
  {
   "cell_type": "markdown",
   "metadata": {},
   "source": [
    "Now let’s download the First GOP Debate Twitter Sentiment corpus from Kaggle and\n",
    "process it as well: https://www.kaggle.com/crowdflower/first-gop-debate-twittersentiment29\n",
    "\n",
    "**Indexing First GOP Debate Twitter Sentiment**"
   ]
  },
  {
   "cell_type": "code",
   "execution_count": 6,
   "metadata": {},
   "outputs": [],
   "source": [
    "####################################\n",
    "#\n",
    "# First GOP Debate Twitter Sentiment\n",
    "#\n",
    "####################################\n",
    "debate_tweets = pd.read_csv('data/Sentiment.csv')\n",
    "# Select only the columns of interest\n",
    "debate_df = debate_tweets[['text', 'sentiment']]\n",
    "# Rename the columns to fit the header\n",
    "debate_df = debate_df.rename(columns={'text': 'tweet'})\n",
    "# Standardize the sentiment column\n",
    "debate_df['sentiment'] = debate_df['sentiment'].apply(lambda s: s.lower())\n",
    "# Add a constant column as the source\n",
    "debate_df['source'] = 'https://www.kaggle.com/crowdflower/first-gop-debate-twitter-sentiment'"
   ]
  },
  {
   "cell_type": "code",
   "execution_count": 7,
   "metadata": {},
   "outputs": [
    {
     "data": {
      "text/html": [
       "<div>\n",
       "<style scoped>\n",
       "    .dataframe tbody tr th:only-of-type {\n",
       "        vertical-align: middle;\n",
       "    }\n",
       "\n",
       "    .dataframe tbody tr th {\n",
       "        vertical-align: top;\n",
       "    }\n",
       "\n",
       "    .dataframe thead th {\n",
       "        text-align: right;\n",
       "    }\n",
       "</style>\n",
       "<table border=\"1\" class=\"dataframe\">\n",
       "  <thead>\n",
       "    <tr style=\"text-align: right;\">\n",
       "      <th></th>\n",
       "      <th>tweet</th>\n",
       "      <th>sentiment</th>\n",
       "      <th>source</th>\n",
       "    </tr>\n",
       "  </thead>\n",
       "  <tbody>\n",
       "    <tr>\n",
       "      <th>0</th>\n",
       "      <td>RT @NancyLeeGrahn: How did everyone feel about...</td>\n",
       "      <td>neutral</td>\n",
       "      <td>https://www.kaggle.com/crowdflower/first-gop-d...</td>\n",
       "    </tr>\n",
       "    <tr>\n",
       "      <th>1</th>\n",
       "      <td>RT @ScottWalker: Didn't catch the full #GOPdeb...</td>\n",
       "      <td>positive</td>\n",
       "      <td>https://www.kaggle.com/crowdflower/first-gop-d...</td>\n",
       "    </tr>\n",
       "    <tr>\n",
       "      <th>2</th>\n",
       "      <td>RT @TJMShow: No mention of Tamir Rice and the ...</td>\n",
       "      <td>neutral</td>\n",
       "      <td>https://www.kaggle.com/crowdflower/first-gop-d...</td>\n",
       "    </tr>\n",
       "    <tr>\n",
       "      <th>3</th>\n",
       "      <td>RT @RobGeorge: That Carly Fiorina is trending ...</td>\n",
       "      <td>positive</td>\n",
       "      <td>https://www.kaggle.com/crowdflower/first-gop-d...</td>\n",
       "    </tr>\n",
       "    <tr>\n",
       "      <th>4</th>\n",
       "      <td>RT @DanScavino: #GOPDebate w/ @realDonaldTrump...</td>\n",
       "      <td>positive</td>\n",
       "      <td>https://www.kaggle.com/crowdflower/first-gop-d...</td>\n",
       "    </tr>\n",
       "  </tbody>\n",
       "</table>\n",
       "</div>"
      ],
      "text/plain": [
       "                                               tweet sentiment  \\\n",
       "0  RT @NancyLeeGrahn: How did everyone feel about...   neutral   \n",
       "1  RT @ScottWalker: Didn't catch the full #GOPdeb...  positive   \n",
       "2  RT @TJMShow: No mention of Tamir Rice and the ...   neutral   \n",
       "3  RT @RobGeorge: That Carly Fiorina is trending ...  positive   \n",
       "4  RT @DanScavino: #GOPDebate w/ @realDonaldTrump...  positive   \n",
       "\n",
       "                                              source  \n",
       "0  https://www.kaggle.com/crowdflower/first-gop-d...  \n",
       "1  https://www.kaggle.com/crowdflower/first-gop-d...  \n",
       "2  https://www.kaggle.com/crowdflower/first-gop-d...  \n",
       "3  https://www.kaggle.com/crowdflower/first-gop-d...  \n",
       "4  https://www.kaggle.com/crowdflower/first-gop-d...  "
      ]
     },
     "execution_count": 7,
     "metadata": {},
     "output_type": "execute_result"
    }
   ],
   "source": [
    "debate_df.head()"
   ]
  },
  {
   "cell_type": "markdown",
   "metadata": {},
   "source": [
    "As a final step, let’s put everything together and see how many tweets we’ve got for\n",
    "each polarity:"
   ]
  },
  {
   "cell_type": "code",
   "execution_count": 10,
   "metadata": {},
   "outputs": [
    {
     "name": "stderr",
     "output_type": "stream",
     "text": [
      "/home/frank/miniconda3/envs/nlp/lib/python3.6/site-packages/ipykernel_launcher.py:3: FutureWarning: Sorting because non-concatenation axis is not aligned. A future version\n",
      "of pandas will change to not sort by default.\n",
      "\n",
      "To accept the future behavior, pass 'sort=False'.\n",
      "\n",
      "To retain the current behavior and silence the warning, pass 'sort=True'.\n",
      "\n",
      "  This is separate from the ipykernel package so we can avoid doing imports until\n"
     ]
    }
   ],
   "source": [
    "#Concatenate the data frames and bar plot\n",
    "# Put everything together recomputing the index\n",
    "df = pd.concat([df, airline_df, debate_df], ignore_index=True)"
   ]
  },
  {
   "cell_type": "code",
   "execution_count": 11,
   "metadata": {},
   "outputs": [
    {
     "data": {
      "text/html": [
       "<div>\n",
       "<style scoped>\n",
       "    .dataframe tbody tr th:only-of-type {\n",
       "        vertical-align: middle;\n",
       "    }\n",
       "\n",
       "    .dataframe tbody tr th {\n",
       "        vertical-align: top;\n",
       "    }\n",
       "\n",
       "    .dataframe thead th {\n",
       "        text-align: right;\n",
       "    }\n",
       "</style>\n",
       "<table border=\"1\" class=\"dataframe\">\n",
       "  <thead>\n",
       "    <tr style=\"text-align: right;\">\n",
       "      <th></th>\n",
       "      <th>sentiment</th>\n",
       "      <th>source</th>\n",
       "      <th>tweet</th>\n",
       "    </tr>\n",
       "  </thead>\n",
       "  <tbody>\n",
       "    <tr>\n",
       "      <th>0</th>\n",
       "      <td>positive</td>\n",
       "      <td>nltk.corpus.twitter_samples</td>\n",
       "      <td>#FollowFriday @France_Inte @PKuchly57 @Milipol...</td>\n",
       "    </tr>\n",
       "    <tr>\n",
       "      <th>1</th>\n",
       "      <td>positive</td>\n",
       "      <td>nltk.corpus.twitter_samples</td>\n",
       "      <td>@Lamb2ja Hey James! How odd :/ Please call our...</td>\n",
       "    </tr>\n",
       "    <tr>\n",
       "      <th>2</th>\n",
       "      <td>positive</td>\n",
       "      <td>nltk.corpus.twitter_samples</td>\n",
       "      <td>@DespiteOfficial we had a listen last night :)...</td>\n",
       "    </tr>\n",
       "    <tr>\n",
       "      <th>3</th>\n",
       "      <td>positive</td>\n",
       "      <td>nltk.corpus.twitter_samples</td>\n",
       "      <td>@97sides CONGRATS :)</td>\n",
       "    </tr>\n",
       "    <tr>\n",
       "      <th>4</th>\n",
       "      <td>positive</td>\n",
       "      <td>nltk.corpus.twitter_samples</td>\n",
       "      <td>yeaaaah yippppy!!!  my accnt verified rqst has...</td>\n",
       "    </tr>\n",
       "  </tbody>\n",
       "</table>\n",
       "</div>"
      ],
      "text/plain": [
       "  sentiment                       source  \\\n",
       "0  positive  nltk.corpus.twitter_samples   \n",
       "1  positive  nltk.corpus.twitter_samples   \n",
       "2  positive  nltk.corpus.twitter_samples   \n",
       "3  positive  nltk.corpus.twitter_samples   \n",
       "4  positive  nltk.corpus.twitter_samples   \n",
       "\n",
       "                                               tweet  \n",
       "0  #FollowFriday @France_Inte @PKuchly57 @Milipol...  \n",
       "1  @Lamb2ja Hey James! How odd :/ Please call our...  \n",
       "2  @DespiteOfficial we had a listen last night :)...  \n",
       "3                               @97sides CONGRATS :)  \n",
       "4  yeaaaah yippppy!!!  my accnt verified rqst has...  "
      ]
     },
     "execution_count": 11,
     "metadata": {},
     "output_type": "execute_result"
    }
   ],
   "source": [
    "df.head()"
   ]
  },
  {
   "cell_type": "code",
   "execution_count": 12,
   "metadata": {},
   "outputs": [
    {
     "data": {
      "image/png": "[encoded data removed]",
      "text/plain": [
       "<Figure size 432x288 with 1 Axes>"
      ]
     },
     "metadata": {},
     "output_type": "display_data"
    }
   ],
   "source": [
    "# Let's see how many positive/neutral/negative samples we've got\n",
    "df[['tweet', 'sentiment']].groupby(['sentiment']).count().plot(kind='bar')\n",
    "# Make sure the plot doesn't immediately disappear\n",
    "plt.show(block=True)"
   ]
  },
  {
   "cell_type": "code",
   "execution_count": 13,
   "metadata": {},
   "outputs": [
    {
     "name": "stdout",
     "output_type": "stream",
     "text": [
      "Total tweets:  67022\n"
     ]
    }
   ],
   "source": [
    "print(\"Total tweets: \", len(df))\n",
    "# Save all data to file\n",
    "df.to_csv('twitter_sentiment_analysis.csv')"
   ]
  },
  {
   "cell_type": "markdown",
   "metadata": {},
   "source": [
    "## Observations\n",
    "- We gathered a good amount of tweets: 38.510.\n",
    "- Data gathered comes from different areas: a great deal of them are either\n",
    "political or customer interactions tweets.\n",
    "- Missing neutral class: the NLTK annotated tweets don’t have a neutral class\n",
    "which means there might be some tweets, at least in theory, that should be\n",
    "classified as neutral.\n",
    "- Dataset is rather unbalanced, skewed towards the negative class.\n",
    "\n",
    "\n",
    "### Sentiment Analysis - A First Attempt\n",
    "We now have the data all together, so let’s train a model to predict tweet sentiments\n",
    "by taking the same approach as we did in the Text Analysis chapter.\n",
    "\n",
    "**Training a Sentiment Classifier - First Attempt**"
   ]
  },
  {
   "cell_type": "code",
   "execution_count": 14,
   "metadata": {},
   "outputs": [],
   "source": [
    "import pandas as pd\n",
    "from sklearn.feature_extraction.text import CountVectorizer\n",
    "from sklearn.naive_bayes import MultinomialNB\n",
    "from sklearn.model_selection import train_test_split"
   ]
  },
  {
   "cell_type": "code",
   "execution_count": 15,
   "metadata": {},
   "outputs": [],
   "source": [
    "data = pd.read_csv('./twitter_sentiment_analysis.csv')"
   ]
  },
  {
   "cell_type": "code",
   "execution_count": 16,
   "metadata": {},
   "outputs": [
    {
     "name": "stdout",
     "output_type": "stream",
     "text": [
      "Accuracy= 0.7579261469600895\n"
     ]
    }
   ],
   "source": [
    "tweets = data['tweet'].values.astype(str)\n",
    "sentiments = data['sentiment'].values.astype(str)\n",
    "# Split the data for training and for testing and shuffle it\n",
    "X_train, X_test, y_train, y_test = train_test_split(tweets, sentiments,\n",
    "test_size=0.2, shuffle=True)\n",
    "\n",
    "vectorizer = CountVectorizer(lowercase=True)\n",
    "# Compute the vocabulary only on the training data\n",
    "vectorizer.fit(X_train)\n",
    "\n",
    "# Transform the text list to a matrix form\n",
    "X_train_vectorized = vectorizer.transform(X_train)\n",
    "classifier = MultinomialNB()\n",
    "\n",
    "# Train the classifier\n",
    "classifier.fit(X_train_vectorized, y_train)\n",
    "\n",
    "# Vectorize the test data\n",
    "X_test_vectorized = vectorizer.transform(X_test)\n",
    "\n",
    "# Check our classifier performance\n",
    "score = classifier.score(X_test_vectorized, y_test)\n",
    "print(\"Accuracy=\", score)"
   ]
  },
  {
   "cell_type": "markdown",
   "metadata": {},
   "source": [
    "I got an accuracy of around 0.71 (71%). It’s not bad, but there are some small\n",
    "adjustments we can make to obtain better results. We’ll see how that goes in the\n",
    "next chapters.\n",
    "\n",
    "## Better Tokenization\n",
    "*How does the Vectorizer transform text into words?* According to the documentation,\n",
    "the vectorizer has two parameters of interest:\n",
    "\n",
    "- tokenizer - a function that performs tokenization on a string.\n",
    "- token_pattern - a regex for extracting tokens from a string. (this is a fallback in\n",
    "case no tokenizer function was provided)\n",
    "\n",
    "Let’s take the default value for the token_pattern which is r\"(?u)\\b\\w\\w+\\b\". and see\n",
    "how it performs on this tweet:\n",
    "\n",
    ">@BeaMiller u didn’t follow me :((\n",
    "\n",
    "**Bad Tweet Tokenization**\n"
   ]
  },
  {
   "cell_type": "code",
   "execution_count": 18,
   "metadata": {},
   "outputs": [],
   "source": [
    "import re\n",
    "import nltk\n",
    "tweet = \"@BeaMiller u didn't follow me :((\""
   ]
  },
  {
   "cell_type": "code",
   "execution_count": 19,
   "metadata": {},
   "outputs": [
    {
     "name": "stdout",
     "output_type": "stream",
     "text": [
      "['BeaMiller', 'didn', 'follow', 'me']\n"
     ]
    }
   ],
   "source": [
    "print(re.findall(r\"(?u)\\b\\w\\w+\\b\", tweet))\n",
    "# ['BeaMiller', 'didn', 'follow', 'me']"
   ]
  },
  {
   "cell_type": "code",
   "execution_count": 20,
   "metadata": {},
   "outputs": [
    {
     "name": "stdout",
     "output_type": "stream",
     "text": [
      "['@', 'BeaMiller', 'u', 'did', \"n't\", 'follow', 'me', ':', '(', '(']\n"
     ]
    }
   ],
   "source": [
    "print(nltk.word_tokenize(tweet))\n",
    "# ['@', 'BeaMiller', 'u', 'did', \"n't\", 'follow', 'me', ':', '(', '(']"
   ]
  },
  {
   "cell_type": "markdown",
   "metadata": {},
   "source": [
    "We’ve tried both the regex token pattern and the nltk.word_tokenize, but we did\n",
    "not get satisfactory results: none of them caught the emoticon (which is a huge\n",
    "sentiment indicator) or the Twitter handle (which has no sentiment value).\n",
    "Feel free to build a better performing regex, as it would be a good exercise at this\n",
    "point.\n",
    "Moving forward, let’s use another tokenizer that comes bundled with NLTK and see\n",
    "how it performs: `nltk.tokenize.TweetTokenizer`\n",
    "\n",
    "**NLTK Tweet Tokenization**"
   ]
  },
  {
   "cell_type": "code",
   "execution_count": 21,
   "metadata": {},
   "outputs": [],
   "source": [
    "from nltk.tokenize.casual import TweetTokenizer\n",
    "tweet = \"@BeaMiller u didn't follow me :((\"\n",
    "tokenizer = TweetTokenizer()"
   ]
  },
  {
   "cell_type": "code",
   "execution_count": 22,
   "metadata": {},
   "outputs": [
    {
     "name": "stdout",
     "output_type": "stream",
     "text": [
      "['@BeaMiller', 'u', \"didn't\", 'follow', 'me', ':(', '(']\n"
     ]
    }
   ],
   "source": [
    "print(tokenizer.tokenize(tweet))\n",
    "# ['@BeaMiller', 'u', \"didn't\", 'follow', 'me', ':(', '(']"
   ]
  },
  {
   "cell_type": "code",
   "execution_count": 23,
   "metadata": {},
   "outputs": [
    {
     "name": "stdout",
     "output_type": "stream",
     "text": [
      "['u', \"didn't\", 'follow', 'me', ':(', '(']\n"
     ]
    }
   ],
   "source": [
    "tokenizer = TweetTokenizer(strip_handles=True)\n",
    "print(tokenizer.tokenize(tweet))\n",
    "# ['u', \"didn't\", 'follow', 'me', ':(', '(']"
   ]
  },
  {
   "cell_type": "markdown",
   "metadata": {},
   "source": [
    "As you can see, it’s not perfect, but it’s slightly better. Let’s try our new fancy\n",
    "tokenizer for the sentiment analysis task and see where it takes us:\n",
    "\n",
    "**Better Tweet Tokenization**\n"
   ]
  },
  {
   "cell_type": "code",
   "execution_count": 24,
   "metadata": {},
   "outputs": [],
   "source": [
    "from nltk.tokenize.casual import TweetTokenizer\n",
    "tweet_tokenizer = TweetTokenizer(strip_handles=True)\n",
    "\n",
    "tweets = data['tweet'].values.astype(str)\n",
    "sentiments = data['sentiment'].values.astype(str)\n",
    "# Split the data for training and for testing and shuffle it\n",
    "X_train, X_test, y_train, y_test = train_test_split(tweets, sentiments,\n",
    "test_size=0.2, shuffle=True)\n",
    "\n",
    "\n",
    "\n",
    "vectorizer = CountVectorizer(lowercase=True, tokenizer=tweet_tokenizer.tokenize)\n",
    "# ..."
   ]
  },
  {
   "cell_type": "code",
   "execution_count": 25,
   "metadata": {},
   "outputs": [
    {
     "name": "stdout",
     "output_type": "stream",
     "text": [
      "Accuracy= 0.8039537486012682\n"
     ]
    }
   ],
   "source": [
    "\n",
    "\n",
    "# Compute the vocabulary only on the training data\n",
    "vectorizer.fit(X_train)\n",
    "\n",
    "# Transform the text list to a matrix form\n",
    "X_train_vectorized = vectorizer.transform(X_train)\n",
    "classifier = MultinomialNB()\n",
    "\n",
    "# Train the classifier\n",
    "classifier.fit(X_train_vectorized, y_train)\n",
    "\n",
    "# Vectorize the test data\n",
    "X_test_vectorized = vectorizer.transform(X_test)\n",
    "\n",
    "# Check our classifier performance\n",
    "score = classifier.score(X_test_vectorized, y_test)\n",
    "print(\"Accuracy=\", score)"
   ]
  },
  {
   "cell_type": "markdown",
   "metadata": {},
   "source": [
    "I got around 0.80 accuracy (80%)! That a huge boost in accuracy with a very small\n",
    "adjustment. Pretty cool :)!"
   ]
  },
  {
   "cell_type": "code",
   "execution_count": null,
   "metadata": {},
   "outputs": [],
   "source": []
  }
 ],
 "metadata": {
  "kernelspec": {
   "display_name": "Python 3",
   "language": "python",
   "name": "python3"
  },
  "language_info": {
   "codemirror_mode": {
    "name": "ipython",
    "version": 3
   },
   "file_extension": ".py",
   "mimetype": "text/x-python",
   "name": "python",
   "nbconvert_exporter": "python",
   "pygments_lexer": "ipython3",
   "version": "3.6.6"
  }
 },
 "nbformat": 4,
 "nbformat_minor": 2
}
