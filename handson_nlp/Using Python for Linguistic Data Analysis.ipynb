{
 "cells": [
  {
   "cell_type": "markdown",
   "metadata": {},
   "source": [
    "https://www.youtube.com/watch?v=gJwFHSeFg44&list=PLGVZCDnMOq0rjkF7p_F4qtaVJQnjK1oKT&index=24"
   ]
  },
  {
   "cell_type": "markdown",
   "metadata": {},
   "source": [
    "- Sentiment analysis\n",
    "how to identify conceps and and identifier.\n",
    "- it changes with domain;\n",
    "\n",
    "- text summarization\n",
    "\n",
    "- machine translate \n",
    "- queston answering\n",
    "    - siri\n",
    "    - google assistant\n",
    "    \n"
   ]
  },
  {
   "cell_type": "markdown",
   "metadata": {},
   "source": [
    "## outline\n",
    "- information extraction\n",
    "    - extract stuff\n",
    "- information retrieval\n",
    "    - searchf rom sevceral docs\n",
    "- deep learing\n",
    "    - convert wores to sematic vectors"
   ]
  }
 ],
 "metadata": {
  "kernelspec": {
   "display_name": "Python 3",
   "language": "python",
   "name": "python3"
  },
  "language_info": {
   "codemirror_mode": {
    "name": "ipython",
    "version": 3
   },
   "file_extension": ".py",
   "mimetype": "text/x-python",
   "name": "python",
   "nbconvert_exporter": "python",
   "pygments_lexer": "ipython3",
   "version": "3.6.6"
  }
 },
 "nbformat": 4,
 "nbformat_minor": 2
}
