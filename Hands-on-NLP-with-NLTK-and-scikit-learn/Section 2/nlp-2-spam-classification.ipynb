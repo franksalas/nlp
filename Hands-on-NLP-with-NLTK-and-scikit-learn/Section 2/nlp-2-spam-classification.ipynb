{
 "cells": [
  {
   "cell_type": "code",
   "execution_count": null,
   "metadata": {},
   "outputs": [],
   "source": []
  },
  {
   "cell_type": "code",
   "execution_count": 6,
   "metadata": {},
   "outputs": [],
   "source": [
    "import collections\n",
    "import nltk\n",
    "import os\n",
    "import random"
   ]
  },
  {
   "cell_type": "code",
   "execution_count": 7,
   "metadata": {},
   "outputs": [],
   "source": [
    "# Define some stop words\n",
    "stop_words = {\n",
    "    'ourselves', 'hers', 'between', 'yourself', 'but', 'again', \n",
    "    'there', 'about', 'once', 'during', 'out', 'very', 'having', 'with', 'they',\n",
    "    'own', 'an', 'be', 'some', 'for', 'do', 'its', 'yours', 'such', 'into', \n",
    "    'of', 'most', 'itself', 'other', 'off', 'is', 's', 'am', 'or', 'who', 'as',\n",
    "    'from', 'him', 'each', 'the', 'themselves', 'until', 'below', 'are', 'we',\n",
    "    'these', 'your', 'his', 'through', 'don', 'nor', 'me', 'were', 'her', 'more',\n",
    "    'himself', 'this', 'down', 'should', 'our', 'their', 'while', 'above',\n",
    "    'both', 'up', 'to', 'ours', 'had', 'she', 'all', 'no', 'when', 'at', 'any',\n",
    "    'before', 'them', 'same', 'and', 'been', 'have', 'in', 'will', 'on', 'does',\n",
    "    'yourselves', 'then', 'that', 'because', 'what', 'over', 'why', 'so', 'can',\n",
    "    'did', 'not', 'now', 'under', 'he', 'you', 'herself', 'has', 'just', 'where',\n",
    "    'too', 'only', 'myself', 'which', 'those', 'i', 'after', 'few', 'whom', 't',\n",
    "    'being', 'if', 'theirs', 'my', 'against', 'a', 'by', 'doing', 'it', 'how',\n",
    "    'further', 'was', 'here', 'than'}"
   ]
  },
  {
   "cell_type": "code",
   "execution_count": 8,
   "metadata": {},
   "outputs": [],
   "source": [
    "def load_files(directory):\n",
    "    result = []\n",
    "    for fname in os.listdir(directory):\n",
    "        with open(directory + '/' + fname, 'r', encoding='ISO-8859-1') as f:\n",
    "            result.append(f.read())\n",
    "    return result"
   ]
  },
  {
   "cell_type": "code",
   "execution_count": 9,
   "metadata": {},
   "outputs": [],
   "source": [
    "def preprocess_sentence(sentence):\n",
    "    lemmatizer = nltk.WordNetLemmatizer()\n",
    "    # clearly list out our preprocessing pipeline\n",
    "    processed_tokens = nltk.word_tokenize(sentence)\n",
    "    processed_tokens = [w.lower() for w in processed_tokens]\n",
    "    # find least common elements\n",
    "    word_counts = collections.Counter(processed_tokens)\n",
    "    uncommon_words = word_counts.most_common()[:-10:-1]\n",
    "    # remove these tokens\n",
    "    processed_tokens = [w for w in processed_tokens if w not in stop_words]\n",
    "    processed_tokens = [w for w in processed_tokens if w not in uncommon_words]\n",
    "    # lemmatize\n",
    "    processed_tokens = [lemmatizer.lemmatize(w) for w in processed_tokens]\n",
    "    return processed_tokens"
   ]
  },
  {
   "cell_type": "code",
   "execution_count": 10,
   "metadata": {},
   "outputs": [],
   "source": [
    "def feature_extraction(tokens):\n",
    "    '''Turn each word into a feature. The feature value is the word count.'''\n",
    "    return dict(collections.Counter(tokens))\n",
    "\n",
    "\n",
    "def train_test_split(dataset, train_size=0.8):\n",
    "    num_training_examples = int(len(dataset) * train_size)\n",
    "    return dataset[:num_training_examples], dataset[num_training_examples:]"
   ]
  },
  {
   "cell_type": "code",
   "execution_count": 11,
   "metadata": {},
   "outputs": [
    {
     "name": "stdout",
     "output_type": "stream",
     "text": [
      "CPU times: user 219 ms, sys: 1.25 s, total: 1.47 s\n",
      "Wall time: 1.45 s\n"
     ]
    }
   ],
   "source": [
    "%%time\n",
    "positive_examples = load_files('enron/spam')\n",
    "negative_examples = load_files('enron/ham')"
   ]
  },
  {
   "cell_type": "code",
   "execution_count": 12,
   "metadata": {},
   "outputs": [],
   "source": [
    "# Label the examples\n",
    "positive_examples = [preprocess_sentence(email) for email in positive_examples]\n",
    "negative_examples = [preprocess_sentence(email) for email in negative_examples]\n",
    "\n",
    "positive_examples = [(email, 1) for email in positive_examples]\n",
    "negative_examples = [(email, 0) for email in negative_examples]\n",
    "all_examples = positive_examples + negative_examples\n"
   ]
  },
  {
   "cell_type": "code",
   "execution_count": 13,
   "metadata": {},
   "outputs": [],
   "source": [
    "random.shuffle(all_examples)"
   ]
  },
  {
   "cell_type": "code",
   "execution_count": 14,
   "metadata": {},
   "outputs": [
    {
     "name": "stdout",
     "output_type": "stream",
     "text": [
      "5172 emails processed.\n"
     ]
    }
   ],
   "source": [
    "print('{} emails processed.'.format(len(all_examples)))"
   ]
  },
  {
   "cell_type": "code",
   "execution_count": 15,
   "metadata": {},
   "outputs": [
    {
     "name": "stdout",
     "output_type": "stream",
     "text": [
      "Model training complete. Accuracy on training set: 0.9599447513812155\n"
     ]
    }
   ],
   "source": [
    "featurized = [(feature_extraction(corpus), label)\n",
    "              for corpus, label in all_examples]\n",
    "\n",
    "training_set, test_set = train_test_split(featurized, train_size=0.7)\n",
    "\n",
    "model = nltk.classify.NaiveBayesClassifier.train(training_set)\n",
    "training_error = nltk.classify.accuracy(model, training_set)\n",
    "print('Model training complete. Accuracy on training set: {}'.format(\n",
    "    training_error))"
   ]
  },
  {
   "cell_type": "code",
   "execution_count": 16,
   "metadata": {},
   "outputs": [
    {
     "name": "stdout",
     "output_type": "stream",
     "text": [
      "Accuracy on test set: 0.9407216494845361\n"
     ]
    }
   ],
   "source": [
    "testing_error = nltk.classify.accuracy(model, test_set)\n",
    "print('Accuracy on test set: {}'.format(testing_error))"
   ]
  },
  {
   "cell_type": "code",
   "execution_count": null,
   "metadata": {},
   "outputs": [],
   "source": []
  }
 ],
 "metadata": {
  "kernelspec": {
   "display_name": "Python 3",
   "language": "python",
   "name": "python3"
  },
  "language_info": {
   "codemirror_mode": {
    "name": "ipython",
    "version": 3
   },
   "file_extension": ".py",
   "mimetype": "text/x-python",
   "name": "python",
   "nbconvert_exporter": "python",
   "pygments_lexer": "ipython3",
   "version": "3.6.6"
  }
 },
 "nbformat": 4,
 "nbformat_minor": 2
}
