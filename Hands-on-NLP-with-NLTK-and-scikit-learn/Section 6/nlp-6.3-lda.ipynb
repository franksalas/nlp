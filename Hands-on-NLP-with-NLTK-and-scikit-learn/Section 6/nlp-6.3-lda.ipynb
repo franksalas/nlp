{
 "cells": [
  {
   "cell_type": "code",
   "execution_count": 3,
   "metadata": {},
   "outputs": [
    {
     "name": "stdout",
     "output_type": "stream",
     "text": [
      "\u001b[0m\u001b[01;36;40mmovie_reviews\u001b[0m/                   \u001b[01;32mnlp-6.2-hashing-vs-count.py\u001b[0m*\r\n",
      "\u001b[01;32mnlp-6.1-nlp-pipeline.ipynb\u001b[0m*      \u001b[01;32mnlp-6.3-lda.ipynb\u001b[0m*\r\n",
      "\u001b[01;32mnlp-6.1-nlp-pipeline.py\u001b[0m*         \u001b[01;32mnlp-6.3-lda.py\u001b[0m*\r\n",
      "\u001b[01;32mnlp-6.2-hashing-vs-count.ipynb\u001b[0m*  \u001b[01;32mnlp-6.4-tfidf-svm.py\u001b[0m*\r\n"
     ]
    }
   ],
   "source": [
    "ls"
   ]
  },
  {
   "cell_type": "code",
   "execution_count": 4,
   "metadata": {},
   "outputs": [
    {
     "name": "stdout",
     "output_type": "stream",
     "text": [
      "Data loaded.\n",
      "Classes = ['alt.atheism', 'comp.graphics', 'comp.os.ms-windows.misc', 'comp.sys.ibm.pc.hardware', 'comp.sys.mac.hardware', 'comp.windows.x', 'misc.forsale', 'rec.autos', 'rec.motorcycles', 'rec.sport.baseball', 'rec.sport.hockey', 'sci.crypt', 'sci.electronics', 'sci.med', 'sci.space', 'soc.religion.christian', 'talk.politics.guns', 'talk.politics.mideast', 'talk.politics.misc', 'talk.religion.misc']\n",
      "19997\n",
      "Newsgroups: rec.sport.hockey\n",
      "Path: cantaloupe.srv.cs.cmu.edu!crabapple.srv.cs.cmu.edu!fs7.ece.cmu.edu!europa.eng.gtefsd.com!howland.reston.ans.net!zaphod.mps.ohio-state.edu!uwm.edu!cs.utexas.edu!utnut!alchemy.chem.utoronto.ca!golchowy\n",
      "From: golchowy@alchemy.chem.utoronto.ca (Gerald Olchowy)\n",
      "Subject: Re: RUMOUR - Keenan signs with Rangers?\n",
      "Message-ID: <1993Apr16.222232.17393@alchemy.chem.utoronto.ca>\n",
      "Organization: University of Toronto Chemistry Department\n",
      "References: <1993Apr16.171347.784@news.columbia.edu> <1993Apr16.183110.838@alchemy.chem.utoronto.ca> <1993Apr16.185823.6310@news.columbia.edu>\n",
      "Date: Fri, 16 Apr 1993 22:22:32 GMT\n",
      "Lines: 25\n",
      "\n",
      "In article <1993Apr16.185823.6310@news.columbia.edu> gld@cunixb.cc.columbia.edu (Gary L Dare) writes:\n",
      ">\n",
      ">Interestingly, Keenan's co-coach (or is it his \"Number One\"?) on Team\n",
      ">Canada at the World Championships is Roger Neilsen.  \n",
      ">\n",
      "\n",
      "But ultimately their hockey philosophies are like night and day...\n",
      "Keenan believes in pressuring the opposition and taking the\n",
      "initiative (within the limits of his system)...while Roger\n",
      "has a reactive hockey philosophy...which is why Messier will\n",
      "be able to and has played for Keenan, but thought Roger's way\n",
      "was a sure loser.\n",
      "\n",
      ">It'd be interesting if the Rangers call in the balance of Neilsen's\n",
      ">contract to be Keenan's assistant ...  Roger did do a very good job\n",
      ">with the mediocre players, just as he handled the Cinderella Canucks\n",
      ">of 10 years ago ... but his mistake was playing the Rangers like those\n",
      ">Canucks last May ...\n",
      ">\n",
      "\n",
      "Roger is a great assistant coach...but considering what must be bad\n",
      "blood between Nielson and Messier, it would be a mistake to bring\n",
      "him back even in that role.\n",
      "\n",
      "Gerald\n",
      "\n",
      "0.7324242424242424\n"
     ]
    }
   ],
   "source": [
    "import itertools\n",
    "import numpy as np\n",
    "from sklearn import (\n",
    "    datasets, feature_extraction, model_selection, pipeline,\n",
    "    decomposition, preprocessing, naive_bayes\n",
    ")\n",
    "import matplotlib.pyplot as plt\n",
    "\n",
    "\n",
    "if __name__ == '__main__':\n",
    "    newsgroups_data = datasets.load_files(\n",
    "        '20_newsgroups', shuffle=True, random_state=42, encoding='ISO-8859-1')\n",
    "\n",
    "    print('Data loaded.\\nClasses = {classes}\\n{datapoints}'.format(\n",
    "        classes=newsgroups_data.target_names, datapoints=len(newsgroups_data.data)))\n",
    "\n",
    "    # sometimes the label is present in the training data\n",
    "    print(newsgroups_data.data[0])\n",
    "    # remove any label present in the features\n",
    "\n",
    "    X_train, X_test, y_train, y_test = model_selection.train_test_split(\n",
    "        newsgroups_data.data, newsgroups_data.target, test_size=0.33,\n",
    "        random_state=42)\n",
    "\n",
    "    model = pipeline.Pipeline([\n",
    "        ('counts', feature_extraction.text.CountVectorizer()),\n",
    "        ('tfidf', feature_extraction.text.TfidfTransformer()),\n",
    "        ('SVD', decomposition.TruncatedSVD(128)),\n",
    "        ('normalize', preprocessing.Normalizer(copy=False)),\n",
    "        ('naivebayes', naive_bayes.GaussianNB())\n",
    "    ])\n",
    "\n",
    "    model.fit(X_train, y_train)\n",
    "    y_pred = model.predict(X_test)\n",
    "\n",
    "    print(model.score(X_test, y_test))"
   ]
  },
  {
   "cell_type": "code",
   "execution_count": null,
   "metadata": {},
   "outputs": [],
   "source": []
  }
 ],
 "metadata": {
  "kernelspec": {
   "display_name": "Python 3",
   "language": "python",
   "name": "python3"
  },
  "language_info": {
   "codemirror_mode": {
    "name": "ipython",
    "version": 3
   },
   "file_extension": ".py",
   "mimetype": "text/x-python",
   "name": "python",
   "nbconvert_exporter": "python",
   "pygments_lexer": "ipython3",
   "version": "3.6.6"
  }
 },
 "nbformat": 4,
 "nbformat_minor": 2
}
