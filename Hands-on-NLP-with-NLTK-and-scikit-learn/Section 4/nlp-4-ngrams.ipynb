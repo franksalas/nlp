{
 "cells": [
  {
   "cell_type": "code",
   "execution_count": 1,
   "metadata": {},
   "outputs": [
    {
     "name": "stderr",
     "output_type": "stream",
     "text": [
      "/home/salas/miniconda3/envs/nlp/lib/python3.6/site-packages/sklearn/ensemble/weight_boosting.py:29: DeprecationWarning: numpy.core.umath_tests is an internal NumPy module and should not be imported. It will be removed in a future NumPy release.\n",
      "  from numpy.core.umath_tests import inner1d\n"
     ]
    }
   ],
   "source": [
    "import collections\n",
    "import nltk\n",
    "import os\n",
    "from sklearn import (\n",
    "    datasets, model_selection, feature_extraction, linear_model, naive_bayes,\n",
    "    ensemble\n",
    ")"
   ]
  },
  {
   "cell_type": "code",
   "execution_count": 2,
   "metadata": {},
   "outputs": [],
   "source": [
    "def extract_features(corpus):\n",
    "    '''Extract TF-IDF features from corpus'''\n",
    "\n",
    "    sa_stop_words = nltk.corpus.stopwords.words(\"english\")\n",
    "\n",
    "    # words that might invert a sentence's meaning\n",
    "    white_list = [\n",
    "        'what', 'but', 'if', 'because', 'as', 'until', 'against',\n",
    "        'up', 'down', 'in', 'out', 'on', 'off', 'over', 'under', 'again',\n",
    "        'further', 'then', 'once', 'here', 'there', 'why', 'how', 'all', 'any',\n",
    "        'most', 'other', 'some', 'such', 'no', 'nor', 'not', 'only', 'own',\n",
    "        'same', 'so', 'than', 'too', 'can', 'will', 'just', 'don', 'should']\n",
    "\n",
    "    # take these out of the standard NLTK stop word list\n",
    "    sa_stop_words = [sw for sw in sa_stop_words if sw not in white_list]\n",
    "\n",
    "    # vectorize means we turn non-numerical data into an array of numbers\n",
    "    count_vectorizer = feature_extraction.text.CountVectorizer(\n",
    "        lowercase=True,  # for demonstration, True by default\n",
    "        tokenizer=nltk.word_tokenize,  # use the NLTK tokenizer\n",
    "        min_df=2,  # minimum document frequency, i.e. the word must appear more than once.\n",
    "        ngram_range=(1, 2),\n",
    "        stop_words=sa_stop_words\n",
    "    )\n",
    "    processed_corpus = count_vectorizer.fit_transform(corpus)\n",
    "    processed_corpus = feature_extraction.text.TfidfTransformer().fit_transform(\n",
    "        processed_corpus)\n",
    "\n",
    "    return processed_corpus"
   ]
  },
  {
   "cell_type": "code",
   "execution_count": 3,
   "metadata": {},
   "outputs": [
    {
     "name": "stdout",
     "output_type": "stream",
     "text": [
      "2000 files loaded.\n",
      "They contain the following classes: ['neg', 'pos'].\n"
     ]
    }
   ],
   "source": [
    "data_directory = 'movie_reviews'\n",
    "movie_sentiment_data = datasets.load_files(data_directory, shuffle=True)\n",
    "print('{} files loaded.'.format(len(movie_sentiment_data.data)))\n",
    "print('They contain the following classes: {}.'.format(\n",
    "    movie_sentiment_data.target_names))"
   ]
  },
  {
   "cell_type": "code",
   "execution_count": 4,
   "metadata": {},
   "outputs": [],
   "source": [
    "movie_tfidf = extract_features(movie_sentiment_data.data)\n",
    "\n",
    "X_train, X_test, y_train, y_test = model_selection.train_test_split(\n",
    "    movie_tfidf, movie_sentiment_data.target, test_size=0.30, random_state=42)"
   ]
  },
  {
   "cell_type": "code",
   "execution_count": 5,
   "metadata": {},
   "outputs": [
    {
     "name": "stdout",
     "output_type": "stream",
     "text": [
      "Logistic Regression performance: 0.8166666666666667\n"
     ]
    }
   ],
   "source": [
    "# similar to nltk.NaiveBayesClassifier.train()\n",
    "clf1 = linear_model.LogisticRegression()\n",
    "clf1.fit(X_train, y_train)\n",
    "print('Logistic Regression performance: {}'.format(clf1.score(X_test, y_test)))"
   ]
  },
  {
   "cell_type": "code",
   "execution_count": 6,
   "metadata": {},
   "outputs": [
    {
     "name": "stdout",
     "output_type": "stream",
     "text": [
      "SGDClassifier performance: 0.85\n"
     ]
    },
    {
     "name": "stderr",
     "output_type": "stream",
     "text": [
      "/home/salas/miniconda3/envs/nlp/lib/python3.6/site-packages/sklearn/linear_model/stochastic_gradient.py:128: FutureWarning: max_iter and tol parameters have been added in <class 'sklearn.linear_model.stochastic_gradient.SGDClassifier'> in 0.19. If both are left unset, they default to max_iter=5 and tol=None. If tol is not None, max_iter defaults to max_iter=1000. From 0.21, default max_iter will be 1000, and default tol will be 1e-3.\n",
      "  \"and default tol will be 1e-3.\" % type(self), FutureWarning)\n"
     ]
    }
   ],
   "source": [
    "clf2 = linear_model.SGDClassifier()\n",
    "clf2.fit(X_train, y_train)\n",
    "print('SGDClassifier performance: {}'.format(clf2.score(X_test, y_test)))"
   ]
  },
  {
   "cell_type": "code",
   "execution_count": 7,
   "metadata": {},
   "outputs": [
    {
     "name": "stdout",
     "output_type": "stream",
     "text": [
      "MultinomialNB performance: 0.785\n"
     ]
    }
   ],
   "source": [
    "clf3 = naive_bayes.MultinomialNB()\n",
    "clf3.fit(X_train, y_train)\n",
    "print('MultinomialNB performance: {}'.format(clf3.score(X_test, y_test)))"
   ]
  },
  {
   "cell_type": "code",
   "execution_count": 8,
   "metadata": {},
   "outputs": [
    {
     "name": "stdout",
     "output_type": "stream",
     "text": [
      "BernoulliNB performance: 0.8\n"
     ]
    }
   ],
   "source": [
    "clf4 = naive_bayes.BernoulliNB()\n",
    "clf4.fit(X_train, y_train)\n",
    "print('BernoulliNB performance: {}'.format(clf4.score(X_test, y_test)))"
   ]
  },
  {
   "cell_type": "code",
   "execution_count": 9,
   "metadata": {},
   "outputs": [
    {
     "name": "stdout",
     "output_type": "stream",
     "text": [
      "Voting classifier performance: 0.815\n"
     ]
    },
    {
     "name": "stderr",
     "output_type": "stream",
     "text": [
      "/home/salas/miniconda3/envs/nlp/lib/python3.6/site-packages/sklearn/linear_model/stochastic_gradient.py:128: FutureWarning: max_iter and tol parameters have been added in <class 'sklearn.linear_model.stochastic_gradient.SGDClassifier'> in 0.19. If both are left unset, they default to max_iter=5 and tol=None. If tol is not None, max_iter defaults to max_iter=1000. From 0.21, default max_iter will be 1000, and default tol will be 1e-3.\n",
      "  \"and default tol will be 1e-3.\" % type(self), FutureWarning)\n",
      "/home/salas/miniconda3/envs/nlp/lib/python3.6/site-packages/sklearn/preprocessing/label.py:151: DeprecationWarning: The truth value of an empty array is ambiguous. Returning False, but in future this will result in an error. Use `array.size > 0` to check that an array is not empty.\n",
      "  if diff:\n"
     ]
    }
   ],
   "source": [
    "voting_model = ensemble.VotingClassifier(\n",
    "    estimators=[('lr', clf1), ('sgd', clf2), ('mnb', clf3), ('bnb', clf4)],\n",
    "    voting='hard')\n",
    "voting_model.fit(X_train, y_train)\n",
    "print('Voting classifier performance: {}'.format(\n",
    "    voting_model.score(X_test, y_test)))"
   ]
  },
  {
   "cell_type": "code",
   "execution_count": null,
   "metadata": {},
   "outputs": [],
   "source": []
  }
 ],
 "metadata": {
  "kernelspec": {
   "display_name": "Python 3",
   "language": "python",
   "name": "python3"
  },
  "language_info": {
   "codemirror_mode": {
    "name": "ipython",
    "version": 3
   },
   "file_extension": ".py",
   "mimetype": "text/x-python",
   "name": "python",
   "nbconvert_exporter": "python",
   "pygments_lexer": "ipython3",
   "version": "3.6.6"
  }
 },
 "nbformat": 4,
 "nbformat_minor": 2
}
